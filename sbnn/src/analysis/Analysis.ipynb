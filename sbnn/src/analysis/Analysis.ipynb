{
 "cells": [
  {
   "cell_type": "code",
   "execution_count": 16,
   "metadata": {},
   "outputs": [
    {
     "name": "stdout",
     "output_type": "stream",
     "text": [
      "98.61\n",
      "97.59\n",
      "97.67\n",
      "80.95\n",
      "98.55\n",
      "100.00\n",
      "100.00\n",
      "95.45\n",
      "100.00\n",
      "100.00\n",
      "96.54\n",
      "79.63\n",
      "97.78\n",
      "96.23\n",
      "100.00\n",
      "97.65\n",
      "100.00\n",
      "94.22\n",
      "100.00\n",
      "100.00\n",
      "100.00\n",
      "100.00\n",
      "100.00\n",
      "92.46\n",
      "100.00\n",
      "100.00\n",
      "100.00\n",
      "0.00\n",
      "100.00\n",
      "100.00\n",
      "100.00\n",
      "0.00\n",
      "33.33\n",
      "100.00\n",
      "47.69\n",
      "85.85\n",
      "40.00\n",
      "100.00\n",
      "90.55\n",
      "71.15\n",
      "62.89\n",
      "73.27\n",
      "82.10\n",
      "73.34\n",
      "86.74\n",
      "81.95\n"
     ]
    }
   ],
   "source": [
    "file = \"/Users/kurt/Desktop/sbm/event-model/evaluation/sbm_dev_04/dev_prediction.out\"\n",
    "with open(file, 'r') as myfile:\n",
    "    lines = myfile.readlines()\n",
    "    started = False\n",
    "    ended = False\n",
    "    for line in lines:\n",
    "        temp = line.split()\n",
    "        if not started:\n",
    "            if temp[0] == 'Development':\n",
    "                recall = temp[7]\n",
    "                print(recall)\n",
    "                started = True\n",
    "        else:\n",
    "            if not ended:\n",
    "                if temp[0] == '===[SUB-TOTAL]===' or temp[0] == '====[TOTAL]====':\n",
    "                    recall = temp[7]\n",
    "                    print(recall)\n",
    "                    ended = True\n",
    "                else:\n",
    "                    recall = temp[7]\n",
    "                    print(recall)\n",
    "            "
   ]
  },
  {
   "cell_type": "code",
   "execution_count": null,
   "metadata": {
    "collapsed": true
   },
   "outputs": [],
   "source": []
  }
 ],
 "metadata": {
  "kernelspec": {
   "display_name": "Python 3",
   "language": "python",
   "name": "python3"
  },
  "language_info": {
   "codemirror_mode": {
    "name": "ipython",
    "version": 3
   },
   "file_extension": ".py",
   "mimetype": "text/x-python",
   "name": "python",
   "nbconvert_exporter": "python",
   "pygments_lexer": "ipython3",
   "version": "3.6.1"
  }
 },
 "nbformat": 4,
 "nbformat_minor": 2
}
